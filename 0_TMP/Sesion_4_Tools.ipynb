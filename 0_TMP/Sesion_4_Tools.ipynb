{
  "nbformat": 4,
  "nbformat_minor": 0,
  "metadata": {
    "colab": {
      "provenance": []
    },
    "kernelspec": {
      "name": "python3",
      "display_name": "Python 3"
    },
    "language_info": {
      "name": "python"
    }
  },
  "cells": [
    {
      "cell_type": "code",
      "execution_count": null,
      "metadata": {
        "id": "w1obe16Dq19C"
      },
      "outputs": [],
      "source": [
        "from IPython.display import clear_output"
      ]
    },
    {
      "cell_type": "code",
      "source": [
        "!pip install langchain langchain_openai\n",
        "clear_output()"
      ],
      "metadata": {
        "id": "4P5dFPI3rAqV"
      },
      "execution_count": null,
      "outputs": []
    },
    {
      "cell_type": "code",
      "source": [
        "import os\n",
        "from langchain.agents import AgentExecutor, create_openai_tools_agent\n",
        "from langchain_openai import ChatOpenAI\n",
        "\n",
        "from langchain.tools import BaseTool, StructuredTool, tool\n",
        "from langchain_core.prompts import ChatPromptTemplate, MessagesPlaceholder"
      ],
      "metadata": {
        "id": "12hpURNirJ7m"
      },
      "execution_count": null,
      "outputs": []
    },
    {
      "cell_type": "code",
      "source": [
        "with open(\"/content/api_key.txt\") as archivo:\n",
        "  apikey = archivo.read()\n",
        "\n",
        "os.environ[\"OPENAI_API_KEY\"] =apikey"
      ],
      "metadata": {
        "id": "7HXZjzXLrvdw"
      },
      "execution_count": null,
      "outputs": []
    },
    {
      "cell_type": "code",
      "source": [
        "## crear herramientas\n",
        "\n",
        "@tool\n",
        "def add(a: int, b: int) -> int:\n",
        "    \"\"\"Adicionar dos numeros\"\"\"\n",
        "    a= int(a)\n",
        "    b= int(b)\n",
        "    return a + b\n",
        "\n",
        "@tool\n",
        "def multiply(a: int, b: int) -> int:\n",
        "    \"\"\"Multiplicar dos numeros\"\"\"\n",
        "    return a * b\n",
        "\n",
        "@tool\n",
        "def square(a: int) -> int:\n",
        "    \"\"\"Elevar al cuadrado un numero\"\"\"\n",
        "    return a * a\n",
        "\n",
        "@tool\n",
        "def cube(a:int) -> int:\n",
        "    \"\"\"Calcular el cubo\"\"\"\n",
        "    return a*a*a"
      ],
      "metadata": {
        "id": "s6WzpjxYr6LZ"
      },
      "execution_count": null,
      "outputs": []
    },
    {
      "cell_type": "code",
      "source": [
        "#Si no tienes una herramientas explicita para responder la pregunta dilo y no hagas mas invocaciones\n",
        "prompt = ChatPromptTemplate.from_messages(\n",
        "    [\n",
        "     (\"system\", \"\"\"Eres un asistente matematico, usa tus herramientas para responder preguntas.\n",
        "     Si no tienes una herramientas explicita para responder la pregunta, rsponde con tu propio conocimiento\n",
        "\n",
        "     Retorna solo la respuesta. por ejemplo:\n",
        "\n",
        "     Human: Cuanto es 1+1?\n",
        "     AI: 2\n",
        "\n",
        "     \"\"\"),\n",
        "     MessagesPlaceholder(\"chat_history\", optional=True),\n",
        "     (\"human\", \"{input}\"),\n",
        "     MessagesPlaceholder(\"agent_scratchpad\"),\n",
        "\n",
        "     ]\n",
        "\n",
        ")"
      ],
      "metadata": {
        "id": "7NncR37isntw"
      },
      "execution_count": null,
      "outputs": []
    },
    {
      "cell_type": "code",
      "source": [
        "# Elige el modelo LLM\n",
        "llm = ChatOpenAI()\n",
        "\n",
        "# Configurar el kit de herramiental\n",
        "toolkit = [add, multiply, square, cube]\n",
        "\n",
        "#construimos el agente\n",
        "agent = create_openai_tools_agent(\n",
        "    llm=llm,\n",
        "    tools=toolkit,\n",
        "    prompt=prompt\n",
        ")\n",
        "\n",
        "#crearel ejecutor\n",
        "\n",
        "agent_executor = AgentExecutor(agent=agent, tools=toolkit, verbose=True)"
      ],
      "metadata": {
        "id": "j1xr6f3KtqjK"
      },
      "execution_count": null,
      "outputs": []
    },
    {
      "cell_type": "code",
      "source": [
        "result = agent_executor.invoke({\"input\": \"Cuanto es root( (6-2), -1)??\"})\n",
        "print(result['output'])"
      ],
      "metadata": {
        "colab": {
          "base_uri": "https://localhost:8080/"
        },
        "id": "l6dds1Couk62",
        "outputId": "de506ef9-cb06-42e1-e3dd-63359245050e"
      },
      "execution_count": null,
      "outputs": [
        {
          "output_type": "stream",
          "name": "stdout",
          "text": [
            "\n",
            "\n",
            "\u001b[1m> Entering new AgentExecutor chain...\u001b[0m\n",
            "\u001b[32;1m\u001b[1;3mLo siento, no tengo una herramienta específica para calcular la raíz con un número negativo en el exponente.\u001b[0m\n",
            "\n",
            "\u001b[1m> Finished chain.\u001b[0m\n",
            "Lo siento, no tengo una herramienta específica para calcular la raíz con un número negativo en el exponente.\n"
          ]
        }
      ]
    },
    {
      "cell_type": "code",
      "source": [],
      "metadata": {
        "id": "STpJgpj1u0oe"
      },
      "execution_count": null,
      "outputs": []
    }
  ]
}