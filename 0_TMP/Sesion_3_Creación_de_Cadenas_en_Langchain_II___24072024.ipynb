{
  "nbformat": 4,
  "nbformat_minor": 0,
  "metadata": {
    "colab": {
      "provenance": []
    },
    "kernelspec": {
      "name": "python3",
      "display_name": "Python 3"
    },
    "language_info": {
      "name": "python"
    }
  },
  "cells": [
    {
      "cell_type": "code",
      "execution_count": null,
      "metadata": {
        "id": "lg0LapLTR3d0"
      },
      "outputs": [],
      "source": [
        "from IPython.display import clear_output"
      ]
    },
    {
      "cell_type": "code",
      "source": [
        "!pip install openai langchain langchain-community langchain-core\n",
        "clear_output()"
      ],
      "metadata": {
        "id": "manes1JRR9hU"
      },
      "execution_count": null,
      "outputs": []
    },
    {
      "cell_type": "code",
      "source": [
        "from langchain.llms import OpenAI\n",
        "from langchain.chains import LLMChain\n",
        "from langchain.prompts import PromptTemplate\n",
        "from langchain.prompts import ChatPromptTemplate\n",
        "from langchain.chains import SimpleSequentialChain\n",
        "from langchain.chains import SequentialChain"
      ],
      "metadata": {
        "id": "S2VQEWtFSDtT"
      },
      "execution_count": null,
      "outputs": []
    },
    {
      "cell_type": "code",
      "source": [
        "with open(\"/content/api_key.txt\") as archivo:\n",
        "  apikey = archivo.read()"
      ],
      "metadata": {
        "id": "8FVaFvhxSKkZ"
      },
      "execution_count": null,
      "outputs": []
    },
    {
      "cell_type": "markdown",
      "source": [
        "### Actividad previa"
      ],
      "metadata": {
        "id": "CdKioyl7SRLe"
      }
    },
    {
      "cell_type": "code",
      "source": [
        "review = \"\"\"Sony has developed a groundbreaking robotic surgeon designed to assist in microsurgical procedures,\n",
        "operating on extremely small tissues like veins and nerves.\n",
        "This innovative robot mirrors the precise movements of surgeons' hands and fingers using a highly sensitive control device,\n",
        "ensuring the surgical instrument moves with the fluidity of a human wrist.\n",
        "Traditional surgical robots often face challenges such as interruptions and delays caused by the manual exchange of instruments.\n",
        "Sony's team has tackled this issue by miniaturizing the instruments and developing a system for automatic exchange.\n",
        "This advancement allows the robot to assist in a wide variety of surgical procedures,\n",
        "potentially enabling AI to perform delicate microsurgeries in the near future.\"\"\"\n",
        "\n",
        "#cadena 01\n",
        "\n",
        "#instancia OpenAI\n",
        "llm = OpenAI(temperature=0.7, openai_api_key=apikey)\n",
        "\n",
        "first_prompt = ChatPromptTemplate.from_template(\n",
        "    \" Traducir la siguiente reseña al español:\"\n",
        "    \"\\n{review} \"\n",
        ")\n",
        "#cadena1 input= reseña | output= Spanish_rev\n",
        "chain_one = LLMChain(llm=llm, prompt=first_prompt,\n",
        "                     output_key= \"Spanish_rev\",\n",
        "                     verbose=True)\n",
        "\n",
        "#cadena 02\n",
        "\n",
        "second_prompt = ChatPromptTemplate.from_template(\n",
        "    \"Resume la siguiente reseña en una frase\"\n",
        "    \"\\n{Spanish_rev} \"\n",
        ")\n",
        "#cadena2 input= Spanish_rev | output= resumen\n",
        "chain_two = LLMChain(llm=llm, prompt=second_prompt,\n",
        "                     output_key= \"resumen\",\n",
        "                     verbose=True)\n",
        "\n",
        "#cadena 03\n",
        "\n",
        "third_prompt = ChatPromptTemplate.from_template(\n",
        "    \"¿En que idioma esta la siguiente reseña?: \"\n",
        "    \"\\n{review} \"\n",
        ")\n",
        "#cadena3 input= review | output= lenguaje\n",
        "chain_three = LLMChain(llm=llm, prompt=third_prompt,\n",
        "                     output_key= \"lenguaje\",\n",
        "                     verbose=True)\n",
        "\n",
        "#cadena 04\n",
        "\n",
        "fourth_prompt = ChatPromptTemplate.from_template(\n",
        "    \"Escribe una respuesta de seguimiento a lo siguiente\"\n",
        "    \"resumen en el idioma especificado\"\n",
        "    \"\\n\\nResumen: {resumen}  \\n\\n lenguaje: {lenguaje}\"\n",
        ")\n",
        "#cadena4 input= resumen,lenguaje | output= mensaje_seg\n",
        "chain_four= LLMChain(llm=llm, prompt=fourth_prompt,\n",
        "                     output_key= \"mensaje_seg\",\n",
        "                     verbose=True)\n",
        "\n",
        "cadena_secuencia = SequentialChain(\n",
        "    chains=[chain_one,chain_two,chain_three,chain_four],\n",
        "    input_variables=[\"review\"],\n",
        "    output_variables=[\"Spanish_rev\",\"resumen\",\"lenguaje\",\"mensaje_seg\"],\n",
        "    verbose=True\n",
        ")\n",
        "cadena_secuencia(review)"
      ],
      "metadata": {
        "colab": {
          "base_uri": "https://localhost:8080/"
        },
        "id": "5miEHS15SPZJ",
        "outputId": "611e5c60-4fc0-403b-9802-454f703c5895"
      },
      "execution_count": null,
      "outputs": [
        {
          "output_type": "stream",
          "name": "stderr",
          "text": [
            "/usr/local/lib/python3.10/dist-packages/langchain_core/_api/deprecation.py:139: LangChainDeprecationWarning: The class `OpenAI` was deprecated in LangChain 0.0.10 and will be removed in 0.3.0. An updated version of the class exists in the langchain-openai package and should be used instead. To use it run `pip install -U langchain-openai` and import as `from langchain_openai import OpenAI`.\n",
            "  warn_deprecated(\n",
            "/usr/local/lib/python3.10/dist-packages/langchain_core/_api/deprecation.py:139: LangChainDeprecationWarning: The class `LLMChain` was deprecated in LangChain 0.1.17 and will be removed in 1.0. Use RunnableSequence, e.g., `prompt | llm` instead.\n",
            "  warn_deprecated(\n",
            "/usr/local/lib/python3.10/dist-packages/langchain_core/_api/deprecation.py:139: LangChainDeprecationWarning: The method `Chain.__call__` was deprecated in langchain 0.1.0 and will be removed in 0.3.0. Use invoke instead.\n",
            "  warn_deprecated(\n"
          ]
        },
        {
          "output_type": "stream",
          "name": "stdout",
          "text": [
            "\n",
            "\n",
            "\u001b[1m> Entering new SequentialChain chain...\u001b[0m\n",
            "\n",
            "\n",
            "\u001b[1m> Entering new LLMChain chain...\u001b[0m\n",
            "Prompt after formatting:\n",
            "\u001b[32;1m\u001b[1;3mHuman:  Traducir la siguiente reseña al español:\n",
            "Sony has developed a groundbreaking robotic surgeon designed to assist in microsurgical procedures,\n",
            "operating on extremely small tissues like veins and nerves.\n",
            "This innovative robot mirrors the precise movements of surgeons' hands and fingers using a highly sensitive control device,\n",
            "ensuring the surgical instrument moves with the fluidity of a human wrist.\n",
            "Traditional surgical robots often face challenges such as interruptions and delays caused by the manual exchange of instruments.\n",
            "Sony's team has tackled this issue by miniaturizing the instruments and developing a system for automatic exchange.\n",
            "This advancement allows the robot to assist in a wide variety of surgical procedures,\n",
            "potentially enabling AI to perform delicate microsurgeries in the near future. \u001b[0m\n",
            "\n",
            "\u001b[1m> Finished chain.\u001b[0m\n",
            "\n",
            "\n",
            "\u001b[1m> Entering new LLMChain chain...\u001b[0m\n",
            "Prompt after formatting:\n",
            "\u001b[32;1m\u001b[1;3mHuman: Resume la siguiente reseña en una frase\n",
            "\n",
            "\n",
            "Sony ha desarrollado un revolucionario cirujano robótico diseñado para ayudar en procedimientos microquirúrgicos, operando en tejidos extremadamente pequeños como venas y nervios. Este innovador robot imita los movimientos precisos de las manos y dedos de los cirujanos utilizando un dispositivo de control altamente sensible, asegurando que el instrumento quirúrgico se mueva con la fluidez de una muñeca humana. Los robots quirúrgicos tradicionales a menudo enfrentan desafíos como interrupciones y retrasos causados por el intercambio manual de instrumentos. El equipo de Sony ha abordado este problema mediante la miniaturización de los instrumentos y el desarrollo de un sistema de intercambio automático. Este avance permite que el robot ayude en una amplia variedad de procedimientos quirúrgicos, lo que podría permitir que la inteligencia artificial realice delicadas microcirugías en un futuro cercano. \u001b[0m\n",
            "\n",
            "\u001b[1m> Finished chain.\u001b[0m\n",
            "\n",
            "\n",
            "\u001b[1m> Entering new LLMChain chain...\u001b[0m\n",
            "Prompt after formatting:\n",
            "\u001b[32;1m\u001b[1;3mHuman: ¿En que idioma esta la siguiente reseña?: \n",
            "Sony has developed a groundbreaking robotic surgeon designed to assist in microsurgical procedures,\n",
            "operating on extremely small tissues like veins and nerves.\n",
            "This innovative robot mirrors the precise movements of surgeons' hands and fingers using a highly sensitive control device,\n",
            "ensuring the surgical instrument moves with the fluidity of a human wrist.\n",
            "Traditional surgical robots often face challenges such as interruptions and delays caused by the manual exchange of instruments.\n",
            "Sony's team has tackled this issue by miniaturizing the instruments and developing a system for automatic exchange.\n",
            "This advancement allows the robot to assist in a wide variety of surgical procedures,\n",
            "potentially enabling AI to perform delicate microsurgeries in the near future. \u001b[0m\n",
            "\n",
            "\u001b[1m> Finished chain.\u001b[0m\n",
            "\n",
            "\n",
            "\u001b[1m> Entering new LLMChain chain...\u001b[0m\n",
            "Prompt after formatting:\n",
            "\u001b[32;1m\u001b[1;3mHuman: Escribe una respuesta de seguimiento a lo siguienteresumen en el idioma especificado\n",
            "\n",
            "Resumen: \n",
            "\n",
            "Sony ha desarrollado un cirujano robótico innovador y preciso que puede realizar microcirugías gracias a sus movimientos similares a los de una mano humana y su sistema de intercambio automático de instrumentos.  \n",
            "\n",
            " lenguaje: \n",
            "\n",
            "La siguiente reseña está en inglés.\u001b[0m\n",
            "\n",
            "\u001b[1m> Finished chain.\u001b[0m\n",
            "\n",
            "\u001b[1m> Finished chain.\u001b[0m\n"
          ]
        },
        {
          "output_type": "execute_result",
          "data": {
            "text/plain": [
              "{'review': \"Sony has developed a groundbreaking robotic surgeon designed to assist in microsurgical procedures,\\noperating on extremely small tissues like veins and nerves.\\nThis innovative robot mirrors the precise movements of surgeons' hands and fingers using a highly sensitive control device,\\nensuring the surgical instrument moves with the fluidity of a human wrist.\\nTraditional surgical robots often face challenges such as interruptions and delays caused by the manual exchange of instruments.\\nSony's team has tackled this issue by miniaturizing the instruments and developing a system for automatic exchange.\\nThis advancement allows the robot to assist in a wide variety of surgical procedures,\\npotentially enabling AI to perform delicate microsurgeries in the near future.\",\n",
              " 'Spanish_rev': '\\n\\nSony ha desarrollado un revolucionario cirujano robótico diseñado para ayudar en procedimientos microquirúrgicos, operando en tejidos extremadamente pequeños como venas y nervios. Este innovador robot imita los movimientos precisos de las manos y dedos de los cirujanos utilizando un dispositivo de control altamente sensible, asegurando que el instrumento quirúrgico se mueva con la fluidez de una muñeca humana. Los robots quirúrgicos tradicionales a menudo enfrentan desafíos como interrupciones y retrasos causados por el intercambio manual de instrumentos. El equipo de Sony ha abordado este problema mediante la miniaturización de los instrumentos y el desarrollo de un sistema de intercambio automático. Este avance permite que el robot ayude en una amplia variedad de procedimientos quirúrgicos, lo que podría permitir que la inteligencia artificial realice delicadas microcirugías en un futuro cercano.',\n",
              " 'resumen': '\\n\\nSony ha desarrollado un cirujano robótico innovador y preciso que puede realizar microcirugías gracias a sus movimientos similares a los de una mano humana y su sistema de intercambio automático de instrumentos.',\n",
              " 'lenguaje': '\\n\\nLa siguiente reseña está en inglés.',\n",
              " 'mensaje_seg': ' \\n\\nRespuesta:\\nThank you for summarizing the groundbreaking development from Sony of a highly precise and innovative robotic surgeon capable of performing microsurgery. Its human-like movements and automatic instrument exchange system make it a remarkable advancement in the medical field.'}"
            ]
          },
          "metadata": {},
          "execution_count": 5
        }
      ]
    },
    {
      "cell_type": "code",
      "source": [
        "import logging\n",
        "logging.basicConfig()\n",
        "logger = logging.getLogger(__name__)"
      ],
      "metadata": {
        "id": "h9ZTSdu7ShMj"
      },
      "execution_count": null,
      "outputs": []
    },
    {
      "cell_type": "code",
      "source": [
        "llm = OpenAI(temperature=0.7, openai_api_key=apikey)\n",
        "\n",
        "review = \"\"\"Sony has developed a groundbreaking robotic surgeon designed to assist in microsurgical procedures,\n",
        "operating on extremely small tissues like veins and nerves.\n",
        "This innovative robot mirrors the precise movements of surgeons' hands and fingers using a highly sensitive control device,\n",
        "ensuring the surgical instrument moves with the fluidity of a human wrist.\n",
        "Traditional surgical robots often face challenges such as interruptions and delays caused by the manual exchange of instruments.\n",
        "Sony's team has tackled this issue by miniaturizing the instruments and developing a system for automatic exchange.\n",
        "This advancement allows the robot to assist in a wide variety of surgical procedures,\n",
        "potentially enabling AI to perform delicate microsurgeries in the near future.\"\"\"\n",
        "\n",
        "first_prompt = ChatPromptTemplate.from_template(\n",
        "    \" Traducir la siguiente reseña al español: \\n{review} \"\n",
        ")\n",
        "\n",
        "second_prompt = ChatPromptTemplate.from_template(\n",
        "    \"Resume la siguiente reseña en una frase \\n{Spanish_rev} \"\n",
        ")\n",
        "\n",
        "third_prompt = ChatPromptTemplate.from_template(\n",
        "    \"¿En que idioma esta la siguiente reseña?: \\n{review} \"\n",
        ")\n",
        "\n",
        "fourth_prompt = ChatPromptTemplate.from_template(\n",
        "    \"Escribe una respuesta de seguimiento a lo siguiente resumen en el idioma especificado \\n\\nResumen: {resumen}  \\n\\n lenguaje: {lenguaje}\"\n",
        ")\n",
        "\n",
        "#cadena 1\n",
        "def chain_one(review):\n",
        "  try:\n",
        "    chain = LLMChain(llm=llm, prompt=first_prompt,\n",
        "                     output_key= \"Spanish_rev\",\n",
        "                     verbose=True)\n",
        "    result = chain.run(review=review)\n",
        "    return result\n",
        "  except Exception as e:\n",
        "    logger.error(f\"Error en cadena 1 : {e}\")\n",
        "    return None\n",
        "\n",
        "#cadena 2\n",
        "\n",
        "def chain_two(Spanish_rev):\n",
        "  try:\n",
        "    chain = LLMChain(llm=llm,prompt=second_prompt,output_key=\"resumen\",verbose=True)\n",
        "    result = chain.run(Spanish_rev=Spanish_rev)\n",
        "    return result\n",
        "  except Exception as e:\n",
        "    logger.error(f\"Error en la cadena 2: {e}\")\n",
        "    return None\n",
        "\n",
        "#cadena 3\n",
        "\n",
        "def chain_three(review):\n",
        "  try:\n",
        "    chain = LLMChain(llm=llm,prompt=third_prompt,output_key=\"lenguaje\",verbose=True)\n",
        "    result = chain.run(review=review)\n",
        "    return result\n",
        "  except Exception as e:\n",
        "    logger.error(f\"Error en la cadena 3: {e}\")\n",
        "    return None\n",
        "\n",
        "#cadena 4\n",
        "\n",
        "def chain_four(resumen,lenguaje):\n",
        "  try:\n",
        "    chain = LLMChain(llm=llm,prompt=fourth_prompt,output_key=\"mensaje_seg\",verbose=True)\n",
        "    result = chain.run(resumen=resumen,lenguaje=lenguaje)\n",
        "    return result\n",
        "  except Exception as e:\n",
        "    logger.error(f\"Error en la cadena 4: {e}\")\n",
        "    return None\n",
        "\n",
        "# control de coordinacion\n",
        "\n",
        "def main_chain(review):\n",
        "  #cadena1\n",
        "  Spanish_rev = chain_one(review)\n",
        "  print(\"paso 1: \"+Spanish_rev)\n",
        "  if Spanish_rev is None:\n",
        "    return \"Error en la cadena uno de main\"\n",
        "  #cadena2\n",
        "  resumen = chain_two(Spanish_rev)\n",
        "  print(\"paso 2: \"+resumen)\n",
        "  if resumen is None:\n",
        "    return \"Error en la cadena dos de main\"\n",
        "  #cadena3\n",
        "  lenguaje = chain_three(review)\n",
        "  print(\"paso 3: \"+lenguaje)\n",
        "  if lenguaje is None:\n",
        "    return \"Error en la cadena tres de main\"\n",
        "  #cadena4\n",
        "  mensaje_seg = chain_four(resumen,lenguaje)\n",
        "  #print(\"paso 4: \"+mensaje_seg)\n",
        "  if mensaje_seg is None:\n",
        "    return \"Error en la cadena cuatro de main\"\n",
        "  return mensaje_seg\n",
        "\n",
        "result = main_chain(review)\n",
        "print(result)"
      ],
      "metadata": {
        "colab": {
          "base_uri": "https://localhost:8080/"
        },
        "id": "jdNZTcjxS4U5",
        "outputId": "88700eb2-6176-499c-8e44-517afb36502c"
      },
      "execution_count": null,
      "outputs": [
        {
          "output_type": "stream",
          "name": "stdout",
          "text": [
            "\n",
            "\n",
            "\u001b[1m> Entering new LLMChain chain...\u001b[0m\n",
            "Prompt after formatting:\n",
            "\u001b[32;1m\u001b[1;3mHuman:  Traducir la siguiente reseña al español: \n",
            "Sony has developed a groundbreaking robotic surgeon designed to assist in microsurgical procedures,\n",
            "operating on extremely small tissues like veins and nerves.\n",
            "This innovative robot mirrors the precise movements of surgeons' hands and fingers using a highly sensitive control device,\n",
            "ensuring the surgical instrument moves with the fluidity of a human wrist.\n",
            "Traditional surgical robots often face challenges such as interruptions and delays caused by the manual exchange of instruments.\n",
            "Sony's team has tackled this issue by miniaturizing the instruments and developing a system for automatic exchange.\n",
            "This advancement allows the robot to assist in a wide variety of surgical procedures,\n",
            "potentially enabling AI to perform delicate microsurgeries in the near future. \u001b[0m\n",
            "\n",
            "\u001b[1m> Finished chain.\u001b[0m\n",
            "paso 1: \n",
            "\n",
            "Sony ha desarrollado un revolucionario cirujano robótico diseñado para asistir en procedimientos microquirúrgicos, operando en tejidos extremadamente pequeños como venas y nervios. Este innovador robot replica los movimientos precisos de las manos y dedos de los cirujanos utilizando un dispositivo de control altamente sensible, asegurando que el instrumento quirúrgico se mueva con la fluidez de una muñeca humana. Los robots quirúrgicos tradicionales a menudo enfrentan desafíos como interrupciones y retrasos causados por el intercambio manual de instrumentos. El equipo de Sony ha abordado este problema miniaturizando los instrumentos y desarrollando un sistema de intercambio automático. Este avance permite que el robot asista en una amplia variedad de procedimientos quirúrgicos, lo que potencialmente permite que la inteligencia artificial realice delicadas microcirugías en un futuro cercano.\n",
            "\n",
            "\n",
            "\u001b[1m> Entering new LLMChain chain...\u001b[0m\n",
            "Prompt after formatting:\n",
            "\u001b[32;1m\u001b[1;3mHuman: Resume la siguiente reseña en una frase \n",
            "\n",
            "\n",
            "Sony ha desarrollado un revolucionario cirujano robótico diseñado para asistir en procedimientos microquirúrgicos, operando en tejidos extremadamente pequeños como venas y nervios. Este innovador robot replica los movimientos precisos de las manos y dedos de los cirujanos utilizando un dispositivo de control altamente sensible, asegurando que el instrumento quirúrgico se mueva con la fluidez de una muñeca humana. Los robots quirúrgicos tradicionales a menudo enfrentan desafíos como interrupciones y retrasos causados por el intercambio manual de instrumentos. El equipo de Sony ha abordado este problema miniaturizando los instrumentos y desarrollando un sistema de intercambio automático. Este avance permite que el robot asista en una amplia variedad de procedimientos quirúrgicos, lo que potencialmente permite que la inteligencia artificial realice delicadas microcirugías en un futuro cercano. \u001b[0m\n",
            "\n",
            "\u001b[1m> Finished chain.\u001b[0m\n",
            "paso 2: \n",
            "Sony ha creado un cirujano robótico altamente preciso y sensible que puede asistir en procedimientos microquirúrgicos gracias a su capacidad para replicar los movimientos de las manos humanas y un sistema de intercambio automático de instrumentos.\n",
            "\n",
            "\n",
            "\u001b[1m> Entering new LLMChain chain...\u001b[0m\n",
            "Prompt after formatting:\n",
            "\u001b[32;1m\u001b[1;3mHuman: ¿En que idioma esta la siguiente reseña?: \n",
            "Sony has developed a groundbreaking robotic surgeon designed to assist in microsurgical procedures,\n",
            "operating on extremely small tissues like veins and nerves.\n",
            "This innovative robot mirrors the precise movements of surgeons' hands and fingers using a highly sensitive control device,\n",
            "ensuring the surgical instrument moves with the fluidity of a human wrist.\n",
            "Traditional surgical robots often face challenges such as interruptions and delays caused by the manual exchange of instruments.\n",
            "Sony's team has tackled this issue by miniaturizing the instruments and developing a system for automatic exchange.\n",
            "This advancement allows the robot to assist in a wide variety of surgical procedures,\n",
            "potentially enabling AI to perform delicate microsurgeries in the near future. \u001b[0m\n",
            "\n",
            "\u001b[1m> Finished chain.\u001b[0m\n",
            "paso 3: \n",
            "\n",
            "La siguiente reseña está en inglés.\n",
            "\n",
            "\n",
            "\u001b[1m> Entering new LLMChain chain...\u001b[0m\n",
            "Prompt after formatting:\n",
            "\u001b[32;1m\u001b[1;3mHuman: Escribe una respuesta de seguimiento a lo siguiente resumen en el idioma especificado \n",
            "\n",
            "Resumen: \n",
            "Sony ha creado un cirujano robótico altamente preciso y sensible que puede asistir en procedimientos microquirúrgicos gracias a su capacidad para replicar los movimientos de las manos humanas y un sistema de intercambio automático de instrumentos.  \n",
            "\n",
            " lenguaje: \n",
            "\n",
            "La siguiente reseña está en inglés.\u001b[0m\n",
            "\n",
            "\u001b[1m> Finished chain.\u001b[0m\n",
            "\n",
            "\n",
            "Thank you for sharing this summary with us. It's amazing to hear that Sony has developed a highly precise and sensitive robotic surgeon that can assist in microsurgical procedures by replicating human hand movements and utilizing an automatic instrument exchange system. This technology has the potential to greatly improve the accuracy and efficiency of surgical procedures. We look forward to learning more about this innovative development.\n"
          ]
        }
      ]
    },
    {
      "cell_type": "markdown",
      "source": [
        "### Flujo condicional"
      ],
      "metadata": {
        "id": "DZMD9aw7WzbD"
      }
    },
    {
      "cell_type": "code",
      "source": [
        "import logging\n",
        "logging.basicConfig()\n",
        "logger = logging.getLogger(__name__)\n",
        "\n",
        "llm = OpenAI(temperature=0.7, openai_api_key=apikey)\n",
        "\n",
        "## Vamos a capturar una reseña la traducimos y vamos a identificar si esta es positiva o negativa,\n",
        "## en caso de ser positiva enviamos un agradecimiento en caso de ser negativa enviamos unas disculpas"
      ],
      "metadata": {
        "id": "ZbklPGdJWKq_"
      },
      "execution_count": null,
      "outputs": []
    },
    {
      "cell_type": "code",
      "source": [
        "review_n = \"\"\"I was really disappointed with the Auriculares samsung Despite the high price, the sound quality is subpar, with a noticeable lack of bass and clarity.\n",
        "They are also quite uncomfortable to wear for extended periods, as the ear cushions are too firm.\n",
        "Additionally, the Bluetooth connection frequently drops, which is incredibly frustrating during workouts.\n",
        "Overall, I expected much better performance and comfort from these headphones and would not recommend them.\"\"\"\n",
        "\n",
        "review_p = \"\"\"I recently purchased the Smartphone Alcatel, and it has exceeded my expectations in every way.\n",
        "The battery life is incredible, lasting me two full days with heavy use.\n",
        "The camera quality is outstanding, capturing crisp and vibrant photos even in low light.\n",
        "The sleek design and lightweight build make it a pleasure to use daily.\n",
        "Additionally, the performance is top-notch, handling multiple apps and tasks without any lag.\n",
        "I highly recommend the Smartphone Alcatel to anyone looking for a reliable and high-performing device.\"\"\"\n",
        "\n",
        "\n",
        "review = review_p"
      ],
      "metadata": {
        "id": "s6fwKV-BXIWP"
      },
      "execution_count": null,
      "outputs": []
    },
    {
      "cell_type": "code",
      "source": [
        "first_prompt = ChatPromptTemplate.from_template(\n",
        "    \" Traducir la siguiente reseña al español: \\n{review} \"\n",
        ")\n",
        "\n",
        "second_prompt = ChatPromptTemplate.from_template(\n",
        "    \"\"\"analiza el sentimiento de la siguiente reseña\n",
        "    y devuelve el resultado en una sola palabra, positivo o negativo \\n{review} \"\"\"\n",
        ")\n",
        "\n",
        "third_prompt = ChatPromptTemplate.from_template(\n",
        "    \"\"\"Genera una respuesta de agradecimiento\n",
        "    para la siguiente reseña positiva: \\n{review} \"\"\"\n",
        ")\n",
        "\n",
        "fourth_prompt = ChatPromptTemplate.from_template(\n",
        "    \"\"\"Genera una respuesta de disculpa para la siguiente\n",
        "    reseña negativa: \\n{review} \"\"\"\n",
        ")\n"
      ],
      "metadata": {
        "id": "m-Ff5o-ZXXnJ"
      },
      "execution_count": null,
      "outputs": []
    },
    {
      "cell_type": "code",
      "source": [
        "#crear cadenas\n",
        "chain_one = LLMChain(llm=llm, prompt=first_prompt,\n",
        "                     output_key= \"Spanish_rev\",\n",
        "                     verbose=True)\n",
        "\n",
        "chain_two = LLMChain(llm=llm, prompt=second_prompt,\n",
        "                     output_key= \"sentiment\",\n",
        "                     verbose=True)\n"
      ],
      "metadata": {
        "id": "0bes9L5UYZev"
      },
      "execution_count": null,
      "outputs": []
    },
    {
      "cell_type": "code",
      "source": [
        "def main_chain(review):\n",
        "  try:\n",
        "    #cadena 1 Traduccion\n",
        "    result_one = chain_one.run({\"review\":review})\n",
        "    print(\"Traduccion al español: \",result_one)\n",
        "\n",
        "    #cadena 2 analisis de sentimiento\n",
        "    result_two = chain_two.run({\"review\":review})\n",
        "    print(\"Sentimiento: \",result_two)\n",
        "\n",
        "    #cadena 3 condicional\n",
        "\n",
        "    if \"positivo\" in result_two.lower():\n",
        "      chain_three = LLMChain(llm=llm,prompt=third_prompt,output_key=\"response\",verbose=True)\n",
        "    elif \"negativo\" in result_two.lower():\n",
        "      chain_three = LLMChain(llm=llm,prompt=fourth_prompt,output_key=\"response\",verbose=True)\n",
        "\n",
        "    result_three = chain_three.run({\"review\":review})\n",
        "    return result_three\n",
        "  except Exception as e:\n",
        "    logger.error(f\"Error en la cadena 3: {e}\")\n",
        "\n"
      ],
      "metadata": {
        "id": "fNZWl39KYqKG"
      },
      "execution_count": null,
      "outputs": []
    },
    {
      "cell_type": "code",
      "source": [
        "result = main_chain(review)\n",
        "print(\"respuesta generada:\",result)"
      ],
      "metadata": {
        "id": "gm7ajPQuZ8hn"
      },
      "execution_count": null,
      "outputs": []
    }
  ]
}