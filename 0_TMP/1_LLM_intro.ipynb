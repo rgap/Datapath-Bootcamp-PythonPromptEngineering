{
  "cells": [
    {
      "cell_type": "code",
      "execution_count": null,
      "metadata": {
        "id": "zkkpLS2kr75T"
      },
      "outputs": [],
      "source": [
        "!pip install langchain openai langchain-community langchain-core\n",
        "from IPython.display import clear_output\n",
        "clear_output()"
      ]
    },
    {
      "cell_type": "code",
      "execution_count": null,
      "metadata": {
        "id": "_I03KOV5tf8y"
      },
      "outputs": [],
      "source": [
        "from langchain.schema import HumanMessagemessage=([content=query])\n",
        "chat_model(messages)"
      ]
    },
    {
      "cell_type": "code",
      "execution_count": null,
      "metadata": {
        "id": "cmw2DYr3tyC4"
      },
      "outputs": [],
      "source": [
        "from langchain.prompts import PromptTemplate\n",
        "prompt=PromptTemplate\n",
        "input_variables=[\"pais\"]\n",
        "template=\"Cual es la capital de Ecuador?\""
      ]
    },
    {
      "cell_type": "code",
      "execution_count": null,
      "metadata": {
        "id": "QF3qvzkiuBd7"
      },
      "outputs": [],
      "source": [
        "from langchain.llms import LLMChain\n",
        "\n"
      ]
    },
    {
      "cell_type": "code",
      "execution_count": null,
      "metadata": {
        "id": "SSO1fuRtuK-M"
      },
      "outputs": [],
      "source": [
        "chain.run (\"Ecuador\")\n"
      ]
    },
    {
      "cell_type": "code",
      "execution_count": null,
      "metadata": {
        "colab": {
          "base_uri": "https://localhost:8080/",
          "height": 159
        },
        "collapsed": true,
        "id": "_SaoYDa2uWnU",
        "outputId": "9ac39acc-1b10-43d9-d7ae-7f4c9ee8c66b"
      },
      "outputs": [
        {
          "ename": "NameError",
          "evalue": "name 'llm' is not defined",
          "output_type": "error",
          "traceback": [
            "\u001b[0;31m---------------------------------------------------------------------------\u001b[0m",
            "\u001b[0;31mNameError\u001b[0m                                 Traceback (most recent call last)",
            "\u001b[0;32m<ipython-input-4-55d720ee3c72>\u001b[0m in \u001b[0;36m<cell line: 2>\u001b[0;34m()\u001b[0m\n\u001b[1;32m      1\u001b[0m \u001b[0mquery1\u001b[0m \u001b[0;34m=\u001b[0m \u001b[0;34m\"Cual es la capital de Ecuador?\"\u001b[0m\u001b[0;34m\u001b[0m\u001b[0;34m\u001b[0m\u001b[0m\n\u001b[0;32m----> 2\u001b[0;31m \u001b[0mprint\u001b[0m\u001b[0;34m(\u001b[0m\u001b[0mllm\u001b[0m\u001b[0;34m.\u001b[0m\u001b[0minvoke\u001b[0m\u001b[0;34m(\u001b[0m\u001b[0mquery1\u001b[0m\u001b[0;34m)\u001b[0m\u001b[0;34m)\u001b[0m\u001b[0;34m\u001b[0m\u001b[0;34m\u001b[0m\u001b[0m\n\u001b[0m",
            "\u001b[0;31mNameError\u001b[0m: name 'llm' is not defined"
          ]
        }
      ],
      "source": [
        "query1 = \"Cual es la capital de Ecuador?\"\n",
        "print(llm.invoke(query1))\n"
      ]
    },
    {
      "cell_type": "code",
      "execution_count": null,
      "metadata": {
        "id": "8cc7Hj6bupCK"
      },
      "outputs": [],
      "source": [
        "for pais in paises"
      ]
    },
    {
      "cell_type": "code",
      "execution_count": null,
      "metadata": {
        "id": "PfeatrpJvAN5"
      },
      "outputs": [],
      "source": [
        "## (1)\n",
        "from langchain.llms import PromptTemplate\n",
        "\n",
        "llm= openai(openai__api_key=api_key)\n",
        "chat_model=openai(openai_api_key=api_key)"
      ]
    }
  ],
  "metadata": {
    "colab": {
      "provenance": []
    },
    "kernelspec": {
      "display_name": "Python 3",
      "name": "python3"
    },
    "language_info": {
      "name": "python"
    }
  },
  "nbformat": 4,
  "nbformat_minor": 0
}
