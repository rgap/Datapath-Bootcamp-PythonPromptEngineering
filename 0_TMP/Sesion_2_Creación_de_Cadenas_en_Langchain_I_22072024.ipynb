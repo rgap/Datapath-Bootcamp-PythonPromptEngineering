{
  "nbformat": 4,
  "nbformat_minor": 0,
  "metadata": {
    "colab": {
      "provenance": []
    },
    "kernelspec": {
      "name": "python3",
      "display_name": "Python 3"
    },
    "language_info": {
      "name": "python"
    }
  },
  "cells": [
    {
      "cell_type": "code",
      "execution_count": null,
      "metadata": {
        "id": "Kn2GyqPrAKXN"
      },
      "outputs": [],
      "source": [
        "from IPython.display import clear_output"
      ]
    },
    {
      "cell_type": "code",
      "source": [
        "!pip install openai langchain langchain-community langchain-core\n",
        "clear_output()"
      ],
      "metadata": {
        "id": "MceTVjmXAQuw"
      },
      "execution_count": null,
      "outputs": []
    },
    {
      "cell_type": "code",
      "source": [
        "from langchain.llms import OpenAI\n",
        "from langchain.chains import LLMChain\n",
        "from langchain.prompts import PromptTemplate\n",
        "from langchain.prompts import ChatPromptTemplate\n",
        "from langchain.chains import SimpleSequentialChain\n",
        "from langchain.chains import SequentialChain"
      ],
      "metadata": {
        "id": "8aWFvARLAf_p"
      },
      "execution_count": null,
      "outputs": []
    },
    {
      "cell_type": "code",
      "source": [
        "import os\n",
        "with open(\"/content/api_key.txt\") as archivo:\n",
        "  apikey = archivo.read()\n",
        "os.environ[\"OPENAI_API_KEY\"] = apikey"
      ],
      "metadata": {
        "id": "X2-5KshsBLL3"
      },
      "execution_count": null,
      "outputs": []
    },
    {
      "cell_type": "code",
      "source": [
        "## cuendo llamen a un LLM temperatura[0,1]\n",
        "#temperatura 0 Determinista/repetitivo robotico\n",
        "#temperatura 1 Ceativo, aleatorio"
      ],
      "metadata": {
        "id": "_GUbUvU7BbBB"
      },
      "execution_count": null,
      "outputs": []
    },
    {
      "cell_type": "code",
      "source": [
        "#Template\n",
        "prompt_template = PromptTemplate.from_template(\n",
        "    \"Describe el siguiente producto de una forma convincente {product_name}?\",\n",
        ")\n",
        "#instancia OpenAI\n",
        "llm = OpenAI(temperature=0.5)\n",
        "\n",
        "#cadena LLMChain\n",
        "chain = LLMChain(llm=llm, prompt=prompt_template)\n"
      ],
      "metadata": {
        "id": "BbkICYAQBvex"
      },
      "execution_count": null,
      "outputs": []
    },
    {
      "cell_type": "code",
      "source": [
        "  #ejecutamos\n",
        "  input ={'product_name','botella de agua econologica'}\n",
        "  print(chain.run(input))"
      ],
      "metadata": {
        "colab": {
          "base_uri": "https://localhost:8080/"
        },
        "id": "invYEm8RCa5b",
        "outputId": "a7292c1d-386f-4303-c4d9-742c295e22c4"
      },
      "execution_count": null,
      "outputs": [
        {
          "output_type": "stream",
          "name": "stdout",
          "text": [
            "\n",
            "\n",
            "¿Estás cansado de contribuir al daño ambiental con cada botella de agua que compras? ¡Tenemos la solución perfecta para ti! Nuestra botella de agua ecológica es la mejor opción para hidratarte de forma responsable y sostenible. Está hecha de materiales reciclados y es reutilizable, lo que la convierte en una opción amigable con el medio ambiente. Además, su diseño moderno y ergonómico la hace fácil de llevar a cualquier lugar. ¡No esperes más y únete al movimiento eco-friendly con nuestra botella de agua económica!\n"
          ]
        }
      ]
    },
    {
      "cell_type": "code",
      "source": [
        "chat_prompt_template = ChatPromptTemplate.from_template(\n",
        "    \"\"\"Eres un asistente util, un usuario pregunta sobre un producto\n",
        "    user: Que puedes decirme sobre {product_name}?\"\n",
        "    Assistent:\"\"\"\n",
        ")\n",
        "\n",
        "#instancia OpenAI\n",
        "llm = OpenAI(temperature=0.5)\n",
        "\n",
        "#cadena LLMChain\n",
        "chain = LLMChain(llm=llm, prompt=chat_prompt_template)"
      ],
      "metadata": {
        "id": "In_1pVrsColn"
      },
      "execution_count": null,
      "outputs": []
    },
    {
      "cell_type": "code",
      "source": [
        "  #ejecutamos\n",
        "  input ={'product_name','botella de agua econologica'}\n",
        "  print(chain.run(input))"
      ],
      "metadata": {
        "colab": {
          "base_uri": "https://localhost:8080/"
        },
        "id": "R47ZOnK8DOyX",
        "outputId": "84f2fb04-3a5f-40f4-93be-7b086e6c7795"
      },
      "execution_count": null,
      "outputs": [
        {
          "output_type": "stream",
          "name": "stdout",
          "text": [
            " Puedo decirte que la botella de agua ecológica es una excelente opción para reducir el uso de plástico y cuidar el medio ambiente. Está hecha de materiales reciclados y es reutilizable, lo que la hace una alternativa más sostenible a las botellas de plástico desechables. Además, mantiene el agua fresca y es fácil de llevar contigo a donde quiera que vayas. ¿Te gustaría saber más detalles sobre este producto?\n"
          ]
        }
      ]
    },
    {
      "cell_type": "code",
      "source": [
        "#Cadenas de secuencia simple #caso 01"
      ],
      "metadata": {
        "id": "dRr7LEvZDWMC"
      },
      "execution_count": null,
      "outputs": []
    },
    {
      "cell_type": "code",
      "source": [
        "#cadena 01\n",
        "llm = OpenAI(temperature=0.5)\n",
        "first_template = ChatPromptTemplate.from_template(\n",
        "    \"\"\"Cual es el mejor nombre para describir una empresa que fabrica  {product_name}? \"\"\"\n",
        ")\n",
        "chain_one = LLMChain(llm=llm, prompt=first_template)"
      ],
      "metadata": {
        "id": "dEhGb66rDzK2"
      },
      "execution_count": null,
      "outputs": []
    },
    {
      "cell_type": "code",
      "source": [
        "#cadena 02\n",
        "llm = OpenAI(temperature=0.5)\n",
        "second_template = ChatPromptTemplate.from_template(\n",
        "    \"\"\"Escribe una descripcion de 20 palabras para la siguiente empresa {company_name}? \"\"\"\n",
        ")\n",
        "chain_two= LLMChain(llm=llm, prompt=second_template)"
      ],
      "metadata": {
        "id": "-GiLs1C4ENvb"
      },
      "execution_count": null,
      "outputs": []
    },
    {
      "cell_type": "code",
      "source": [
        "cadena_lineal = SimpleSequentialChain(chains=[chain_one, chain_two])\n",
        "cadena_lineal.run(\"chocolates de caramelo\")"
      ],
      "metadata": {
        "colab": {
          "base_uri": "https://localhost:8080/",
          "height": 53
        },
        "id": "USAiMpx9EkKX",
        "outputId": "50423e59-99be-48df-c9e6-cfa6abe570d6"
      },
      "execution_count": null,
      "outputs": [
        {
          "output_type": "execute_result",
          "data": {
            "text/plain": [
              "'\\n\\n\"Delicias de Caramelo\" o \"Caramelicious\" es una empresa dedicada a la elaboración de dulces artesanales con deliciosos sabores a caramelo.'"
            ],
            "application/vnd.google.colaboratory.intrinsic+json": {
              "type": "string"
            }
          },
          "metadata": {},
          "execution_count": 16
        }
      ]
    },
    {
      "cell_type": "code",
      "source": [
        "#caso 02"
      ],
      "metadata": {
        "id": "F4wihgG2Euz1"
      },
      "execution_count": null,
      "outputs": []
    },
    {
      "cell_type": "code",
      "source": [
        "#cadena01\n",
        "\n",
        "llm = OpenAI(temperature=0.5)\n",
        "one_template = ChatPromptTemplate.from_template(\n",
        "    \"\"\"Traducir la siguiente reseña en español {review} \"\"\"\n",
        ")\n",
        "\n",
        "#cadena1 input reseña | output spanish_rev\n",
        "chain_one = LLMChain(llm=llm, prompt=one_template, output_key=\"spanish_rev\")"
      ],
      "metadata": {
        "id": "mIJ7PnmNE-En"
      },
      "execution_count": null,
      "outputs": []
    },
    {
      "cell_type": "code",
      "source": [
        "#cadena02\n",
        "\n",
        "llm = OpenAI(temperature=0.5)\n",
        "dos_template = ChatPromptTemplate.from_template(\n",
        "    \"\"\"Resume la siguiente reseñan en una frase {spanish_rev} \"\"\"\n",
        ")\n",
        "#cadena1 input spanish_rev | output resumen\n",
        "chain_dos= LLMChain(llm=llm, prompt=dos_template, output_key=\"resumen\")"
      ],
      "metadata": {
        "id": "_td_J6WwFp34"
      },
      "execution_count": null,
      "outputs": []
    },
    {
      "cell_type": "code",
      "source": [
        "#cadena03\n",
        "\n",
        "llm = OpenAI(temperature=0.5)\n",
        "tres_template = ChatPromptTemplate.from_template(\n",
        "    \"\"\"En que idioma esta la siguiente reseña {review} \"\"\"\n",
        ")\n",
        "#cadena1 input review | output lenguaje\n",
        "chain_tres= LLMChain(llm=llm, prompt=tres_template, output_key=\"lenguaje\")"
      ],
      "metadata": {
        "id": "_Cx10XMDGDkT"
      },
      "execution_count": null,
      "outputs": []
    },
    {
      "cell_type": "code",
      "source": [
        "#cadena04\n",
        "\n",
        "llm = OpenAI(temperature=0.5)\n",
        "cuatro_template = ChatPromptTemplate.from_template(\n",
        "    \"\"\"Escribe una respuesta de seguimiento a lo siguiente\n",
        "    resumen en el idioma especificado\n",
        "     \\n\\nResumen: {resumen}, \\n\\n lenguaje: {lenguaje}\n",
        "    \"\"\"\n",
        ")\n",
        "#cadena1 input resumen,lenguaje | output mensaje_seg\n",
        "chain_cuatro= LLMChain(llm=llm, prompt=cuatro_template, output_key=\"mensaje_seg\")"
      ],
      "metadata": {
        "id": "p1itD30sGYqt"
      },
      "execution_count": null,
      "outputs": []
    },
    {
      "cell_type": "code",
      "source": [
        "cadena_secuencial = SequentialChain(\n",
        "    chains=[chain_one, chain_dos,chain_tres ,chain_cuatro],\n",
        "    input_variables=[\"review\"],\n",
        "    output_variables=[\"spanish_rev\", \"resumen\", \"lenguaje\", \"mensaje_seg\"],\n",
        "    #verbose=True\n",
        ")"
      ],
      "metadata": {
        "id": "Ev76h3sCHMbA"
      },
      "execution_count": null,
      "outputs": []
    },
    {
      "cell_type": "code",
      "source": [
        "review = \"\"\"Sony has developed a groundbreaking robotic surgeon designed to assist in microsurgical procedures,\n",
        "operating on extremely small tissues like veins and nerves.\n",
        "This innovative robot mirrors the precise movements of surgeons' hands and fingers using a highly sensitive control device,\n",
        "ensuring the surgical instrument moves with the fluidity of a human wrist.\n",
        "Traditional surgical robots often face challenges such as interruptions and delays caused by the manual exchange of instruments.\n",
        "Sony's team has tackled this issue by miniaturizing the instruments and developing a system for automatic exchange.\n",
        "This advancement allows the robot to assist in a wide variety of surgical procedures,\n",
        "potentially enabling AI to perform delicate microsurgeries in the near future.\"\"\""
      ],
      "metadata": {
        "id": "51gQwPlKH4YE"
      },
      "execution_count": null,
      "outputs": []
    },
    {
      "cell_type": "code",
      "source": [
        "cadena_secuencial(review)"
      ],
      "metadata": {
        "colab": {
          "base_uri": "https://localhost:8080/"
        },
        "id": "jgBYhTCVHhZA",
        "outputId": "2b681d42-ea63-43e9-f67c-d969bc02a7ed"
      },
      "execution_count": null,
      "outputs": [
        {
          "output_type": "execute_result",
          "data": {
            "text/plain": [
              "{'review': \"Sony has developed a groundbreaking robotic surgeon designed to assist in microsurgical procedures,\\noperating on extremely small tissues like veins and nerves.\\nThis innovative robot mirrors the precise movements of surgeons' hands and fingers using a highly sensitive control device,\\nensuring the surgical instrument moves with the fluidity of a human wrist.\\nTraditional surgical robots often face challenges such as interruptions and delays caused by the manual exchange of instruments.\\nSony's team has tackled this issue by miniaturizing the instruments and developing a system for automatic exchange.\\nThis advancement allows the robot to assist in a wide variety of surgical procedures,\\npotentially enabling AI to perform delicate microsurgeries in the near future.\",\n",
              " 'spanish_rev': '\\n\\nSony ha desarrollado un revolucionario cirujano robótico diseñado para ayudar en procedimientos microquirúrgicos, operando en tejidos extremadamente pequeños como venas y nervios. Este innovador robot refleja los movimientos precisos de las manos y dedos de los cirujanos utilizando un dispositivo de control altamente sensible, asegurando que el instrumento quirúrgico se mueva con la fluidez de una muñeca humana. Los robots quirúrgicos tradicionales a menudo enfrentan desafíos como interrupciones y retrasos causados por el intercambio manual de instrumentos. El equipo de Sony ha abordado este problema al miniaturizar los instrumentos y desarrollar un sistema de intercambio automático. Este avance permite que el robot asista en una amplia variedad de procedimientos quirúrgicos, lo que potencialmente permitirá que la inteligencia artificial realice delicadas microcirugías en un futuro cercano.',\n",
              " 'resumen': '\\n\\nSony ha creado un cirujano robótico altamente preciso y avanzado que puede realizar procedimientos microquirúrgicos con la misma destreza que un cirujano humano gracias a su dispositivo de control sensible y su sistema de intercambio automático de instrumentos.',\n",
              " 'lenguaje': '\\n\\nLa siguiente reseña está en inglés.',\n",
              " 'mensaje_seg': '\\nResponse: Sony has created a highly precise and advanced robotic surgeon that can perform microsurgical procedures with the same dexterity as a human surgeon thanks to its sensitive control device and automatic instrument exchange system.'}"
            ]
          },
          "metadata": {},
          "execution_count": 49
        }
      ]
    },
    {
      "cell_type": "code",
      "source": [],
      "metadata": {
        "id": "bitK_b8UH6SA"
      },
      "execution_count": null,
      "outputs": []
    }
  ]
}