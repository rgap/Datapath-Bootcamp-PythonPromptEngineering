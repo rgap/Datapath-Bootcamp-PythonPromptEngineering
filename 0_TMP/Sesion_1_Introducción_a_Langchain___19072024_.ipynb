{
  "nbformat": 4,
  "nbformat_minor": 0,
  "metadata": {
    "colab": {
      "provenance": []
    },
    "kernelspec": {
      "name": "python3",
      "display_name": "Python 3"
    },
    "language_info": {
      "name": "python"
    }
  },
  "cells": [
    {
      "cell_type": "code",
      "execution_count": null,
      "metadata": {
        "id": "Jtk55rUJqvC-"
      },
      "outputs": [],
      "source": [
        "from IPython.display import clear_output"
      ]
    },
    {
      "cell_type": "code",
      "source": [
        "!pip install langchain openai langchain-community langchain-core\n",
        "clear_output()"
      ],
      "metadata": {
        "id": "FL5b96YMq_6T"
      },
      "execution_count": null,
      "outputs": []
    },
    {
      "cell_type": "code",
      "source": [
        "from langchain.llms import OpenAI\n",
        "from langchain.chat_models import ChatOpenAI"
      ],
      "metadata": {
        "id": "Fm5lf377rVmx"
      },
      "execution_count": null,
      "outputs": []
    },
    {
      "cell_type": "markdown",
      "source": [
        "### Carga API"
      ],
      "metadata": {
        "id": "wHuDsCrjsYZk"
      }
    },
    {
      "cell_type": "code",
      "source": [
        "## Carga API\n",
        "import os\n",
        "with open(\"/content/api_key.txt\") as archivo:\n",
        "    api_key = archivo.read()"
      ],
      "metadata": {
        "id": "SSzBlOFOrr_4"
      },
      "execution_count": null,
      "outputs": []
    },
    {
      "cell_type": "code",
      "source": [
        "llm=OpenAI(openai_api_key=api_key)\n",
        "chat_model=ChatOpenAI(openai_api_key=api_key)"
      ],
      "metadata": {
        "id": "tFH62zGDsJtQ"
      },
      "execution_count": null,
      "outputs": []
    },
    {
      "cell_type": "markdown",
      "source": [
        "### Llamadas LLM"
      ],
      "metadata": {
        "id": "398dsbTYscXa"
      }
    },
    {
      "cell_type": "code",
      "source": [
        "## LLM Model\n",
        "query = \"Cual es la capital de Peru?\"\n",
        "llm.invoke(query)"
      ],
      "metadata": {
        "colab": {
          "base_uri": "https://localhost:8080/",
          "height": 36
        },
        "id": "bDjsjm9OsUVo",
        "outputId": "bb644af9-5143-4529-b88c-4b012ddc26d1"
      },
      "execution_count": null,
      "outputs": [
        {
          "output_type": "execute_result",
          "data": {
            "text/plain": [
              "'\\n\\nLa capital de Perú es Lima.'"
            ],
            "application/vnd.google.colaboratory.intrinsic+json": {
              "type": "string"
            }
          },
          "metadata": {},
          "execution_count": 7
        }
      ]
    },
    {
      "cell_type": "code",
      "source": [
        "chat_model.invoke(query)"
      ],
      "metadata": {
        "colab": {
          "base_uri": "https://localhost:8080/"
        },
        "id": "tqzYJ7zGsylO",
        "outputId": "ab973664-5797-4454-fbf9-32142840f526"
      },
      "execution_count": null,
      "outputs": [
        {
          "output_type": "execute_result",
          "data": {
            "text/plain": [
              "AIMessage(content='La capital de Perú es Lima.', response_metadata={'token_usage': {'completion_tokens': 8, 'prompt_tokens': 15, 'total_tokens': 23}, 'model_name': 'gpt-3.5-turbo', 'system_fingerprint': None, 'finish_reason': 'stop', 'logprobs': None}, id='run-8a2067e3-ca55-4a92-a34a-9e39ee12f623-0')"
            ]
          },
          "metadata": {},
          "execution_count": 8
        }
      ]
    },
    {
      "cell_type": "code",
      "source": [
        "#definicion alternativa\n",
        "from langchain.schema import HumanMessage\n",
        "messages=([HumanMessage(content=query)])\n",
        "chat_model(messages)"
      ],
      "metadata": {
        "colab": {
          "base_uri": "https://localhost:8080/"
        },
        "id": "Yn38P-P-s3qa",
        "outputId": "0770ea05-ab2a-4766-da9b-1e853c35d729"
      },
      "execution_count": null,
      "outputs": [
        {
          "output_type": "execute_result",
          "data": {
            "text/plain": [
              "AIMessage(content='La capital de Perú es Lima.', response_metadata={'token_usage': {'completion_tokens': 8, 'prompt_tokens': 15, 'total_tokens': 23}, 'model_name': 'gpt-3.5-turbo', 'system_fingerprint': None, 'finish_reason': 'stop', 'logprobs': None}, id='run-4f150fcf-29d1-4cea-aedf-bd3d2aeccd29-0')"
            ]
          },
          "metadata": {},
          "execution_count": 9
        }
      ]
    },
    {
      "cell_type": "markdown",
      "source": [
        "### Plantillas"
      ],
      "metadata": {
        "id": "3zplajujtebx"
      }
    },
    {
      "cell_type": "code",
      "source": [
        "from langchain.prompts import PromptTemplate\n",
        "prompt = PromptTemplate(\n",
        "    input_variables=[\"pais\"],\n",
        "    template=\"Cual es la capital de {pais}?\",\n",
        ")"
      ],
      "metadata": {
        "id": "tF4rCyaktUAn"
      },
      "execution_count": null,
      "outputs": []
    },
    {
      "cell_type": "code",
      "source": [
        "from langchain.chains import LLMChain\n",
        "chain = LLMChain(llm=llm, prompt=prompt)"
      ],
      "metadata": {
        "id": "wuSqT3MwtsgB"
      },
      "execution_count": null,
      "outputs": []
    },
    {
      "cell_type": "code",
      "source": [
        "chain.run(\"Ecuador\")"
      ],
      "metadata": {
        "colab": {
          "base_uri": "https://localhost:8080/",
          "height": 157
        },
        "id": "o6isCBEOt6Jj",
        "outputId": "1c73e822-5a42-43ca-ce62-52514ad4e272"
      },
      "execution_count": null,
      "outputs": [
        {
          "output_type": "stream",
          "name": "stdout",
          "text": [
            "\n",
            "\n",
            "\u001b[1m> Entering new LLMChain chain...\u001b[0m\n",
            "Prompt after formatting:\n",
            "\u001b[32;1m\u001b[1;3mCual es la capital de Ecuador?\u001b[0m\n",
            "\n",
            "\u001b[1m> Finished chain.\u001b[0m\n"
          ]
        },
        {
          "output_type": "execute_result",
          "data": {
            "text/plain": [
              "'\\n\\nLa capital de Ecuador es Quito.'"
            ],
            "application/vnd.google.colaboratory.intrinsic+json": {
              "type": "string"
            }
          },
          "metadata": {},
          "execution_count": 12
        }
      ]
    },
    {
      "cell_type": "code",
      "source": [
        "query1 = \"Cual es la capital de Ecuador?\"\n",
        "print(llm.invoke(query1))"
      ],
      "metadata": {
        "colab": {
          "base_uri": "https://localhost:8080/"
        },
        "id": "oDzjATdJt84o",
        "outputId": "70f28390-e16f-4238-ed20-f15676cb9887"
      },
      "execution_count": null,
      "outputs": [
        {
          "output_type": "stream",
          "name": "stdout",
          "text": [
            "\n",
            "\n",
            "La capital de Ecuador es Quito.\n"
          ]
        }
      ]
    },
    {
      "cell_type": "code",
      "source": [
        "paises = [\"Peru\",\"Panama\",\"Mexico\",\"Chile\"]\n",
        "for pais in paises:\n",
        "    print(chain.run(pais))"
      ],
      "metadata": {
        "colab": {
          "base_uri": "https://localhost:8080/"
        },
        "id": "k4VHTuoFuLrJ",
        "outputId": "b3ca9472-6b1d-407c-cc04-bf4cb0c613ed"
      },
      "execution_count": null,
      "outputs": [
        {
          "output_type": "stream",
          "name": "stdout",
          "text": [
            "\n",
            "\n",
            "La capital de Perú es Lima.\n",
            "\n",
            "\n",
            "La capital de Panamá es la ciudad de Panamá.\n",
            "\n",
            "\n",
            "La capital de México es la Ciudad de México.\n",
            "\n",
            "\n",
            "La capital de Chile es Santiago.\n"
          ]
        }
      ]
    },
    {
      "cell_type": "code",
      "source": [
        "### (1) Cambiar Prompt + usar api propia\n",
        "from langchain.prompts import PromptTemplate\n",
        "from langchain.chains import LLMChain\n",
        "\n",
        "llm=OpenAI(openai_api_key=api_key)\n",
        "\n",
        "prompt_template =\"\"\" Cual es la capital de {pais}? \"\"\"\n",
        "\n",
        "prompt = PromptTemplate(\n",
        "    input_variables=[\"pais\"],\n",
        "    template=prompt_template,\n",
        ")\n",
        "chain = LLMChain(llm=llm, prompt=prompt)\n",
        "print(chain.run(\"Ecuador\"))"
      ],
      "metadata": {
        "colab": {
          "base_uri": "https://localhost:8080/"
        },
        "id": "V0By9onBugIf",
        "outputId": "5d86d43b-c3c9-4b1b-fade-b4e8541a2aa8"
      },
      "execution_count": null,
      "outputs": [
        {
          "output_type": "stream",
          "name": "stdout",
          "text": [
            "\n",
            "\n",
            "La capital de Ecuador es Quito.\n"
          ]
        }
      ]
    },
    {
      "cell_type": "code",
      "source": [],
      "metadata": {
        "id": "7EubN8tXvCmq"
      },
      "execution_count": null,
      "outputs": []
    }
  ]
}