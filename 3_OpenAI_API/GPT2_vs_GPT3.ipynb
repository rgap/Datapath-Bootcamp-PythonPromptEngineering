{
  "cells": [
    {
      "cell_type": "markdown",
      "metadata": {
        "id": "NxShsn3ywX6n"
      },
      "source": [
        "## GPT 2"
      ]
    },
    {
      "cell_type": "code",
      "execution_count": 3,
      "metadata": {
        "id": "EtWtOgUVwTnZ"
      },
      "outputs": [
        {
          "name": "stdout",
          "output_type": "stream",
          "text": [
            "Unexpected exception formatting exception. Falling back to standard exception\n"
          ]
        },
        {
          "name": "stderr",
          "output_type": "stream",
          "text": [
            "Traceback (most recent call last):\n",
            "  File \"/Users/rgap/Desktop/Bootcamp_PrompEngineering/rgap-chatbots-langchain/.venv/lib/python3.12/site-packages/IPython/core/interactiveshell.py\", line 3577, in run_code\n",
            "  File \"/var/folders/xd/gw_pmm5d23s8dm3h09tn28x00000gn/T/ipykernel_56867/2958090388.py\", line 1, in <module>\n",
            "    from transformers import GPT2LMHeadModel, GPT2Tokenizer\n",
            "ModuleNotFoundError: No module named 'transformers'\n",
            "\n",
            "During handling of the above exception, another exception occurred:\n",
            "\n",
            "Traceback (most recent call last):\n",
            "  File \"/Users/rgap/Desktop/Bootcamp_PrompEngineering/rgap-chatbots-langchain/.venv/lib/python3.12/site-packages/pygments/styles/__init__.py\", line 45, in get_style_by_name\n",
            "ModuleNotFoundError: No module named 'pygments.styles.default'\n",
            "\n",
            "During handling of the above exception, another exception occurred:\n",
            "\n",
            "Traceback (most recent call last):\n",
            "  File \"/Users/rgap/Desktop/Bootcamp_PrompEngineering/rgap-chatbots-langchain/.venv/lib/python3.12/site-packages/IPython/core/interactiveshell.py\", line 2168, in showtraceback\n",
            "  File \"/Users/rgap/Desktop/Bootcamp_PrompEngineering/rgap-chatbots-langchain/.venv/lib/python3.12/site-packages/IPython/core/ultratb.py\", line 1454, in structured_traceback\n",
            "  File \"/Users/rgap/Desktop/Bootcamp_PrompEngineering/rgap-chatbots-langchain/.venv/lib/python3.12/site-packages/IPython/core/ultratb.py\", line 1345, in structured_traceback\n",
            "  File \"/Users/rgap/Desktop/Bootcamp_PrompEngineering/rgap-chatbots-langchain/.venv/lib/python3.12/site-packages/IPython/core/ultratb.py\", line 1192, in structured_traceback\n",
            "  File \"/Users/rgap/Desktop/Bootcamp_PrompEngineering/rgap-chatbots-langchain/.venv/lib/python3.12/site-packages/IPython/core/ultratb.py\", line 1082, in format_exception_as_a_whole\n",
            "  File \"/Users/rgap/Desktop/Bootcamp_PrompEngineering/rgap-chatbots-langchain/.venv/lib/python3.12/site-packages/IPython/core/ultratb.py\", line 1133, in get_records\n",
            "  File \"/Users/rgap/Desktop/Bootcamp_PrompEngineering/rgap-chatbots-langchain/.venv/lib/python3.12/site-packages/pygments/styles/__init__.py\", line 47, in get_style_by_name\n",
            "pygments.util.ClassNotFound: Could not find style module 'pygments.styles.default', though it should be builtin.\n"
          ]
        }
      ],
      "source": [
        "from transformers import GPT2LMHeadModel, GPT2Tokenizer\n",
        "\n",
        "# Load pre-trained model and tokenizer\n",
        "model = GPT2LMHeadModel.from_pretrained(\"gpt2\")\n",
        "tokenizer = GPT2Tokenizer.from_pretrained(\"gpt2\")\n",
        "\n",
        "# Define input text\n",
        "input_text = \"Once upon a time\"\n",
        "\n",
        "# Encode input text\n",
        "input_ids = tokenizer.encode(input_text, return_tensors=\"pt\")\n",
        "\n",
        "# Generate text\n",
        "output = model.generate(input_ids, max_length=50, num_return_sequences=1)\n",
        "\n",
        "# Decode and print the result\n",
        "print()\n",
        "response = tokenizer.decode(output[0], skip_special_tokens=True)\n",
        "print(response)"
      ]
    },
    {
      "cell_type": "markdown",
      "metadata": {},
      "source": [
        "## GPT 3"
      ]
    },
    {
      "cell_type": "code",
      "execution_count": 1,
      "metadata": {},
      "outputs": [
        {
          "name": "stdout",
          "output_type": "stream",
          "text": [
            "result.choices:\n",
            " [CompletionChoice(finish_reason='length', index=0, logprobs=None, text=', there was a _ _ _.\\n\\nWish and dream.\\n\\nWhat words/terms')]\n",
            "result.choices[0].text:\n",
            " , there was a _ _ _.\n",
            "\n",
            "Wish and dream.\n",
            "\n",
            "What words/terms\n",
            "response:\n",
            " Once upon a time, there was a _ _ _.\n",
            "\n",
            "Wish and dream.\n",
            "\n",
            "What words/terms\n"
          ]
        }
      ],
      "source": [
        "from openai import OpenAI\n",
        "\n",
        "# The openai key is stored in the environment variable OPENAI_API_KEY\n",
        "# and is automatically used by the OpenAI class\n",
        "# from a jupyter notebook, it will be automatically used\n",
        "client = OpenAI()\n",
        "\n",
        "input_text = \"Once upon a time\"\n",
        "\n",
        "# Make API call\n",
        "result = client.completions.create(\n",
        "    model=\"davinci-002\",  # This is one of the GPT-3 models\n",
        "    prompt=f\"Complete this sentence: {input_text}\",\n",
        ")\n",
        "\n",
        "# Print the response\n",
        "print(\"result.choices:\\n\", result.choices)\n",
        "\n",
        "print(\"result.choices[0].text:\\n\", result.choices[0].text)\n",
        "\n",
        "print(\"response:\\n\", input_text + result.choices[0].text)"
      ]
    },
    {
      "cell_type": "markdown",
      "metadata": {},
      "source": [
        "## GPT 3.5"
      ]
    },
    {
      "cell_type": "code",
      "execution_count": 21,
      "metadata": {},
      "outputs": [
        {
          "name": "stdout",
          "output_type": "stream",
          "text": [
            "result.choices:\n",
            " [CompletionChoice(finish_reason='length', index=0, logprobs=None, text='...\\n\\n There was a brave and adventurous princess who lived in a kingdom far, far')]\n",
            "result.choices[0].text:\n",
            " ...\n",
            "\n",
            " There was a brave and adventurous princess who lived in a kingdom far, far\n",
            "response\n",
            " Once upon a time...\n",
            "\n",
            " There was a brave and adventurous princess who lived in a kingdom far, far\n"
          ]
        }
      ],
      "source": [
        "from openai import OpenAI\n",
        "\n",
        "client = OpenAI()\n",
        "\n",
        "input_text = \"Once upon a time\"\n",
        "\n",
        "# Make API call\n",
        "result = client.completions.create(\n",
        "    model=\"gpt-3.5-turbo-instruct\",  # This is one of the GPT-3 models\n",
        "    prompt=f\"Complete this sentence: {input_text}\",\n",
        ")\n",
        "\n",
        "# Print the response\n",
        "print(\"result.choices:\\n\", result.choices)\n",
        "\n",
        "print(\"result.choices[0].text:\\n\", result.choices[0].text)\n",
        "\n",
        "print(\"response:\\n\", input_text + result.choices[0].text)"
      ]
    }
  ],
  "metadata": {
    "colab": {
      "provenance": []
    },
    "kernelspec": {
      "display_name": "Python 3",
      "name": "python3"
    },
    "language_info": {
      "codemirror_mode": {
        "name": "ipython",
        "version": 3
      },
      "file_extension": ".py",
      "mimetype": "text/x-python",
      "name": "python",
      "nbconvert_exporter": "python",
      "pygments_lexer": "ipython3",
      "version": "3.12.5"
    }
  },
  "nbformat": 4,
  "nbformat_minor": 0
}
